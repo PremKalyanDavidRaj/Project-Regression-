{
  "cells": [
    {
      "cell_type": "markdown",
      "metadata": {
        "id": "2Xi0CMM2clAj"
      },
      "source": [
        "Importing the Dependencies"
      ]
    },
    {
      "cell_type": "code",
      "execution_count": 98,
      "metadata": {
        "id": "6PbZXKDQZEWJ"
      },
      "outputs": [],
      "source": [
        "import numpy as np\n",
        "import pandas as pd\n",
        "import matplotlib.pyplot as plt\n",
        "import seaborn as sns\n",
        "from sklearn.model_selection import train_test_split\n",
        "from xgboost import XGBRegressor\n",
        "from sklearn import metrics\n",
        "from sklearn.preprocessing import LabelEncoder\n",
        "from sklearn.linear_model import LinearRegression\n",
        "from sklearn.metrics import mean_absolute_error as mae"
      ]
    },
    {
      "cell_type": "markdown",
      "metadata": {
        "id": "rcfuz4bXdg1I"
      },
      "source": [
        "Data Collection & Processing"
      ]
    },
    {
      "cell_type": "code",
      "execution_count": 99,
      "metadata": {
        "id": "455T_ehLc9LM"
      },
      "outputs": [],
      "source": [
        "# loading the data from csv file to a Pandas DataFrame\n",
        "calories = pd.read_csv(r'C:\\Users\\unhmguest\\comp841\\Practice\\exercise_dataset.csv')"
      ]
    },
    {
      "cell_type": "code",
      "execution_count": 100,
      "metadata": {
        "colab": {
          "base_uri": "https://localhost:8080/",
          "height": 196
        },
        "id": "afZUOcwbemJc",
        "outputId": "c7ed1e29-240e-4972-cc9c-80fae5d751d0"
      },
      "outputs": [
        {
          "data": {
            "text/html": [
              "<div>\n",
              "<style scoped>\n",
              "    .dataframe tbody tr th:only-of-type {\n",
              "        vertical-align: middle;\n",
              "    }\n",
              "\n",
              "    .dataframe tbody tr th {\n",
              "        vertical-align: top;\n",
              "    }\n",
              "\n",
              "    .dataframe thead th {\n",
              "        text-align: right;\n",
              "    }\n",
              "</style>\n",
              "<table border=\"1\" class=\"dataframe\">\n",
              "  <thead>\n",
              "    <tr style=\"text-align: right;\">\n",
              "      <th></th>\n",
              "      <th>ID</th>\n",
              "      <th>Exercise</th>\n",
              "      <th>Calories Burn</th>\n",
              "      <th>Dream Weight</th>\n",
              "      <th>Actual Weight</th>\n",
              "      <th>Age</th>\n",
              "      <th>Gender</th>\n",
              "      <th>Duration</th>\n",
              "      <th>Heart Rate</th>\n",
              "      <th>BMI</th>\n",
              "      <th>Weather Conditions</th>\n",
              "      <th>Exercise Intensity</th>\n",
              "    </tr>\n",
              "  </thead>\n",
              "  <tbody>\n",
              "    <tr>\n",
              "      <th>0</th>\n",
              "      <td>1</td>\n",
              "      <td>Exercise 2</td>\n",
              "      <td>286.959851</td>\n",
              "      <td>91.892531</td>\n",
              "      <td>96.301115</td>\n",
              "      <td>45</td>\n",
              "      <td>Male</td>\n",
              "      <td>37</td>\n",
              "      <td>170</td>\n",
              "      <td>29.426275</td>\n",
              "      <td>Rainy</td>\n",
              "      <td>5</td>\n",
              "    </tr>\n",
              "    <tr>\n",
              "      <th>1</th>\n",
              "      <td>2</td>\n",
              "      <td>Exercise 7</td>\n",
              "      <td>343.453036</td>\n",
              "      <td>64.165097</td>\n",
              "      <td>61.104668</td>\n",
              "      <td>25</td>\n",
              "      <td>Male</td>\n",
              "      <td>43</td>\n",
              "      <td>142</td>\n",
              "      <td>21.286346</td>\n",
              "      <td>Rainy</td>\n",
              "      <td>5</td>\n",
              "    </tr>\n",
              "    <tr>\n",
              "      <th>2</th>\n",
              "      <td>3</td>\n",
              "      <td>Exercise 4</td>\n",
              "      <td>261.223465</td>\n",
              "      <td>70.846224</td>\n",
              "      <td>71.766724</td>\n",
              "      <td>20</td>\n",
              "      <td>Male</td>\n",
              "      <td>20</td>\n",
              "      <td>148</td>\n",
              "      <td>27.899592</td>\n",
              "      <td>Cloudy</td>\n",
              "      <td>4</td>\n",
              "    </tr>\n",
              "    <tr>\n",
              "      <th>3</th>\n",
              "      <td>4</td>\n",
              "      <td>Exercise 5</td>\n",
              "      <td>127.183858</td>\n",
              "      <td>79.477008</td>\n",
              "      <td>82.984456</td>\n",
              "      <td>33</td>\n",
              "      <td>Male</td>\n",
              "      <td>39</td>\n",
              "      <td>170</td>\n",
              "      <td>33.729552</td>\n",
              "      <td>Sunny</td>\n",
              "      <td>10</td>\n",
              "    </tr>\n",
              "    <tr>\n",
              "      <th>4</th>\n",
              "      <td>5</td>\n",
              "      <td>Exercise 10</td>\n",
              "      <td>416.318374</td>\n",
              "      <td>89.960226</td>\n",
              "      <td>85.643174</td>\n",
              "      <td>29</td>\n",
              "      <td>Female</td>\n",
              "      <td>34</td>\n",
              "      <td>118</td>\n",
              "      <td>23.286113</td>\n",
              "      <td>Cloudy</td>\n",
              "      <td>3</td>\n",
              "    </tr>\n",
              "  </tbody>\n",
              "</table>\n",
              "</div>"
            ],
            "text/plain": [
              "   ID     Exercise  Calories Burn  Dream Weight  Actual Weight  Age  Gender  \\\n",
              "0   1   Exercise 2     286.959851     91.892531      96.301115   45    Male   \n",
              "1   2   Exercise 7     343.453036     64.165097      61.104668   25    Male   \n",
              "2   3   Exercise 4     261.223465     70.846224      71.766724   20    Male   \n",
              "3   4   Exercise 5     127.183858     79.477008      82.984456   33    Male   \n",
              "4   5  Exercise 10     416.318374     89.960226      85.643174   29  Female   \n",
              "\n",
              "   Duration  Heart Rate        BMI Weather Conditions  Exercise Intensity  \n",
              "0        37         170  29.426275              Rainy                   5  \n",
              "1        43         142  21.286346              Rainy                   5  \n",
              "2        20         148  27.899592             Cloudy                   4  \n",
              "3        39         170  33.729552              Sunny                  10  \n",
              "4        34         118  23.286113             Cloudy                   3  "
            ]
          },
          "execution_count": 100,
          "metadata": {},
          "output_type": "execute_result"
        }
      ],
      "source": [
        "# print the first 5 rows of the dataframe\n",
        "calories.head()"
      ]
    },
    {
      "cell_type": "code",
      "execution_count": 101,
      "metadata": {
        "colab": {
          "base_uri": "https://localhost:8080/",
          "height": 196
        },
        "id": "RO-DGhIdgPrG",
        "outputId": "1c049b16-ca96-477d-b215-d704e0efb00d"
      },
      "outputs": [
        {
          "data": {
            "text/html": [
              "<div>\n",
              "<style scoped>\n",
              "    .dataframe tbody tr th:only-of-type {\n",
              "        vertical-align: middle;\n",
              "    }\n",
              "\n",
              "    .dataframe tbody tr th {\n",
              "        vertical-align: top;\n",
              "    }\n",
              "\n",
              "    .dataframe thead th {\n",
              "        text-align: right;\n",
              "    }\n",
              "</style>\n",
              "<table border=\"1\" class=\"dataframe\">\n",
              "  <thead>\n",
              "    <tr style=\"text-align: right;\">\n",
              "      <th></th>\n",
              "      <th>ID</th>\n",
              "      <th>Exercise</th>\n",
              "      <th>Calories Burn</th>\n",
              "      <th>Dream Weight</th>\n",
              "      <th>Actual Weight</th>\n",
              "      <th>Age</th>\n",
              "      <th>Gender</th>\n",
              "      <th>Duration</th>\n",
              "      <th>Heart Rate</th>\n",
              "      <th>BMI</th>\n",
              "      <th>Weather Conditions</th>\n",
              "      <th>Exercise Intensity</th>\n",
              "    </tr>\n",
              "  </thead>\n",
              "  <tbody>\n",
              "    <tr>\n",
              "      <th>0</th>\n",
              "      <td>1</td>\n",
              "      <td>Exercise 2</td>\n",
              "      <td>286.959851</td>\n",
              "      <td>91.892531</td>\n",
              "      <td>96.301115</td>\n",
              "      <td>45</td>\n",
              "      <td>Male</td>\n",
              "      <td>37</td>\n",
              "      <td>170</td>\n",
              "      <td>29.426275</td>\n",
              "      <td>Rainy</td>\n",
              "      <td>5</td>\n",
              "    </tr>\n",
              "    <tr>\n",
              "      <th>1</th>\n",
              "      <td>2</td>\n",
              "      <td>Exercise 7</td>\n",
              "      <td>343.453036</td>\n",
              "      <td>64.165097</td>\n",
              "      <td>61.104668</td>\n",
              "      <td>25</td>\n",
              "      <td>Male</td>\n",
              "      <td>43</td>\n",
              "      <td>142</td>\n",
              "      <td>21.286346</td>\n",
              "      <td>Rainy</td>\n",
              "      <td>5</td>\n",
              "    </tr>\n",
              "    <tr>\n",
              "      <th>2</th>\n",
              "      <td>3</td>\n",
              "      <td>Exercise 4</td>\n",
              "      <td>261.223465</td>\n",
              "      <td>70.846224</td>\n",
              "      <td>71.766724</td>\n",
              "      <td>20</td>\n",
              "      <td>Male</td>\n",
              "      <td>20</td>\n",
              "      <td>148</td>\n",
              "      <td>27.899592</td>\n",
              "      <td>Cloudy</td>\n",
              "      <td>4</td>\n",
              "    </tr>\n",
              "    <tr>\n",
              "      <th>3</th>\n",
              "      <td>4</td>\n",
              "      <td>Exercise 5</td>\n",
              "      <td>127.183858</td>\n",
              "      <td>79.477008</td>\n",
              "      <td>82.984456</td>\n",
              "      <td>33</td>\n",
              "      <td>Male</td>\n",
              "      <td>39</td>\n",
              "      <td>170</td>\n",
              "      <td>33.729552</td>\n",
              "      <td>Sunny</td>\n",
              "      <td>10</td>\n",
              "    </tr>\n",
              "    <tr>\n",
              "      <th>4</th>\n",
              "      <td>5</td>\n",
              "      <td>Exercise 10</td>\n",
              "      <td>416.318374</td>\n",
              "      <td>89.960226</td>\n",
              "      <td>85.643174</td>\n",
              "      <td>29</td>\n",
              "      <td>Female</td>\n",
              "      <td>34</td>\n",
              "      <td>118</td>\n",
              "      <td>23.286113</td>\n",
              "      <td>Cloudy</td>\n",
              "      <td>3</td>\n",
              "    </tr>\n",
              "  </tbody>\n",
              "</table>\n",
              "</div>"
            ],
            "text/plain": [
              "   ID     Exercise  Calories Burn  Dream Weight  Actual Weight  Age  Gender  \\\n",
              "0   1   Exercise 2     286.959851     91.892531      96.301115   45    Male   \n",
              "1   2   Exercise 7     343.453036     64.165097      61.104668   25    Male   \n",
              "2   3   Exercise 4     261.223465     70.846224      71.766724   20    Male   \n",
              "3   4   Exercise 5     127.183858     79.477008      82.984456   33    Male   \n",
              "4   5  Exercise 10     416.318374     89.960226      85.643174   29  Female   \n",
              "\n",
              "   Duration  Heart Rate        BMI Weather Conditions  Exercise Intensity  \n",
              "0        37         170  29.426275              Rainy                   5  \n",
              "1        43         142  21.286346              Rainy                   5  \n",
              "2        20         148  27.899592             Cloudy                   4  \n",
              "3        39         170  33.729552              Sunny                  10  \n",
              "4        34         118  23.286113             Cloudy                   3  "
            ]
          },
          "execution_count": 101,
          "metadata": {},
          "output_type": "execute_result"
        }
      ],
      "source": [
        "calories.head()"
      ]
    },
    {
      "cell_type": "code",
      "execution_count": 102,
      "metadata": {
        "colab": {
          "base_uri": "https://localhost:8080/"
        },
        "id": "kB0hwwMHgS7x",
        "outputId": "d6a38169-6d98-4710-d161-5584b000f4a3"
      },
      "outputs": [
        {
          "data": {
            "text/plain": [
              "(3864, 12)"
            ]
          },
          "execution_count": 102,
          "metadata": {},
          "output_type": "execute_result"
        }
      ],
      "source": [
        "# checking the number of rows and columns\n",
        "calories.shape"
      ]
    },
    {
      "cell_type": "code",
      "execution_count": 103,
      "metadata": {
        "colab": {
          "base_uri": "https://localhost:8080/"
        },
        "id": "siYE6fU7gbi3",
        "outputId": "2612cdc7-84a8-4e3f-ab9a-94e7dc5b8f73"
      },
      "outputs": [
        {
          "name": "stdout",
          "output_type": "stream",
          "text": [
            "<class 'pandas.core.frame.DataFrame'>\n",
            "RangeIndex: 3864 entries, 0 to 3863\n",
            "Data columns (total 12 columns):\n",
            " #   Column              Non-Null Count  Dtype  \n",
            "---  ------              --------------  -----  \n",
            " 0   ID                  3864 non-null   int64  \n",
            " 1   Exercise            3864 non-null   object \n",
            " 2   Calories Burn       3864 non-null   float64\n",
            " 3   Dream Weight        3864 non-null   float64\n",
            " 4   Actual Weight       3864 non-null   float64\n",
            " 5   Age                 3864 non-null   int64  \n",
            " 6   Gender              3864 non-null   object \n",
            " 7   Duration            3864 non-null   int64  \n",
            " 8   Heart Rate          3864 non-null   int64  \n",
            " 9   BMI                 3864 non-null   float64\n",
            " 10  Weather Conditions  3864 non-null   object \n",
            " 11  Exercise Intensity  3864 non-null   int64  \n",
            "dtypes: float64(4), int64(5), object(3)\n",
            "memory usage: 362.4+ KB\n"
          ]
        }
      ],
      "source": [
        "# getting some informations about the data\n",
        "calories.info()"
      ]
    },
    {
      "cell_type": "code",
      "execution_count": 104,
      "metadata": {
        "colab": {
          "base_uri": "https://localhost:8080/"
        },
        "id": "XhKisO0pgwXd",
        "outputId": "0a9e3328-081b-40d3-b92c-4488ecfc4b5d"
      },
      "outputs": [
        {
          "data": {
            "text/plain": [
              "ID                    0\n",
              "Exercise              0\n",
              "Calories Burn         0\n",
              "Dream Weight          0\n",
              "Actual Weight         0\n",
              "Age                   0\n",
              "Gender                0\n",
              "Duration              0\n",
              "Heart Rate            0\n",
              "BMI                   0\n",
              "Weather Conditions    0\n",
              "Exercise Intensity    0\n",
              "dtype: int64"
            ]
          },
          "execution_count": 104,
          "metadata": {},
          "output_type": "execute_result"
        }
      ],
      "source": [
        "# checking for missing values\n",
        "calories.isnull().sum()\n",
        "#print(sns.__version__)"
      ]
    },
    {
      "cell_type": "markdown",
      "metadata": {
        "id": "oY-QcmsVhSBV"
      },
      "source": [
        "Data Analysis"
      ]
    },
    {
      "cell_type": "code",
      "execution_count": 105,
      "metadata": {
        "colab": {
          "base_uri": "https://localhost:8080/",
          "height": 286
        },
        "id": "95cmeAWZhFa4",
        "outputId": "e2f0f104-4183-4ec1-9285-79ec85461692"
      },
      "outputs": [
        {
          "data": {
            "text/html": [
              "<div>\n",
              "<style scoped>\n",
              "    .dataframe tbody tr th:only-of-type {\n",
              "        vertical-align: middle;\n",
              "    }\n",
              "\n",
              "    .dataframe tbody tr th {\n",
              "        vertical-align: top;\n",
              "    }\n",
              "\n",
              "    .dataframe thead th {\n",
              "        text-align: right;\n",
              "    }\n",
              "</style>\n",
              "<table border=\"1\" class=\"dataframe\">\n",
              "  <thead>\n",
              "    <tr style=\"text-align: right;\">\n",
              "      <th></th>\n",
              "      <th>ID</th>\n",
              "      <th>Calories Burn</th>\n",
              "      <th>Dream Weight</th>\n",
              "      <th>Actual Weight</th>\n",
              "      <th>Age</th>\n",
              "      <th>Duration</th>\n",
              "      <th>Heart Rate</th>\n",
              "      <th>BMI</th>\n",
              "      <th>Exercise Intensity</th>\n",
              "    </tr>\n",
              "  </thead>\n",
              "  <tbody>\n",
              "    <tr>\n",
              "      <th>count</th>\n",
              "      <td>3864.000000</td>\n",
              "      <td>3864.000000</td>\n",
              "      <td>3864.000000</td>\n",
              "      <td>3864.000000</td>\n",
              "      <td>3864.000000</td>\n",
              "      <td>3864.000000</td>\n",
              "      <td>3864.000000</td>\n",
              "      <td>3864.000000</td>\n",
              "      <td>3864.000000</td>\n",
              "    </tr>\n",
              "    <tr>\n",
              "      <th>mean</th>\n",
              "      <td>1932.500000</td>\n",
              "      <td>301.861806</td>\n",
              "      <td>75.139263</td>\n",
              "      <td>75.188440</td>\n",
              "      <td>39.621118</td>\n",
              "      <td>40.190994</td>\n",
              "      <td>139.777950</td>\n",
              "      <td>26.801977</td>\n",
              "      <td>5.457298</td>\n",
              "    </tr>\n",
              "    <tr>\n",
              "      <th>std</th>\n",
              "      <td>1115.585048</td>\n",
              "      <td>115.828604</td>\n",
              "      <td>14.545824</td>\n",
              "      <td>14.845511</td>\n",
              "      <td>12.521721</td>\n",
              "      <td>11.765957</td>\n",
              "      <td>23.447528</td>\n",
              "      <td>4.746745</td>\n",
              "      <td>2.850896</td>\n",
              "    </tr>\n",
              "    <tr>\n",
              "      <th>min</th>\n",
              "      <td>1.000000</td>\n",
              "      <td>100.009403</td>\n",
              "      <td>50.001984</td>\n",
              "      <td>45.783747</td>\n",
              "      <td>18.000000</td>\n",
              "      <td>20.000000</td>\n",
              "      <td>100.000000</td>\n",
              "      <td>18.500014</td>\n",
              "      <td>1.000000</td>\n",
              "    </tr>\n",
              "    <tr>\n",
              "      <th>25%</th>\n",
              "      <td>966.750000</td>\n",
              "      <td>202.168837</td>\n",
              "      <td>62.373585</td>\n",
              "      <td>62.476906</td>\n",
              "      <td>29.000000</td>\n",
              "      <td>30.000000</td>\n",
              "      <td>119.000000</td>\n",
              "      <td>22.686774</td>\n",
              "      <td>3.000000</td>\n",
              "    </tr>\n",
              "    <tr>\n",
              "      <th>50%</th>\n",
              "      <td>1932.500000</td>\n",
              "      <td>299.742508</td>\n",
              "      <td>75.522136</td>\n",
              "      <td>75.544407</td>\n",
              "      <td>40.000000</td>\n",
              "      <td>40.000000</td>\n",
              "      <td>140.000000</td>\n",
              "      <td>26.861656</td>\n",
              "      <td>5.000000</td>\n",
              "    </tr>\n",
              "    <tr>\n",
              "      <th>75%</th>\n",
              "      <td>2898.250000</td>\n",
              "      <td>404.143688</td>\n",
              "      <td>87.707989</td>\n",
              "      <td>88.105767</td>\n",
              "      <td>51.000000</td>\n",
              "      <td>51.000000</td>\n",
              "      <td>160.000000</td>\n",
              "      <td>30.950380</td>\n",
              "      <td>8.000000</td>\n",
              "    </tr>\n",
              "    <tr>\n",
              "      <th>max</th>\n",
              "      <td>3864.000000</td>\n",
              "      <td>499.859262</td>\n",
              "      <td>99.985355</td>\n",
              "      <td>104.309600</td>\n",
              "      <td>60.000000</td>\n",
              "      <td>60.000000</td>\n",
              "      <td>180.000000</td>\n",
              "      <td>34.996639</td>\n",
              "      <td>10.000000</td>\n",
              "    </tr>\n",
              "  </tbody>\n",
              "</table>\n",
              "</div>"
            ],
            "text/plain": [
              "                ID  Calories Burn  Dream Weight  Actual Weight          Age  \\\n",
              "count  3864.000000    3864.000000   3864.000000    3864.000000  3864.000000   \n",
              "mean   1932.500000     301.861806     75.139263      75.188440    39.621118   \n",
              "std    1115.585048     115.828604     14.545824      14.845511    12.521721   \n",
              "min       1.000000     100.009403     50.001984      45.783747    18.000000   \n",
              "25%     966.750000     202.168837     62.373585      62.476906    29.000000   \n",
              "50%    1932.500000     299.742508     75.522136      75.544407    40.000000   \n",
              "75%    2898.250000     404.143688     87.707989      88.105767    51.000000   \n",
              "max    3864.000000     499.859262     99.985355     104.309600    60.000000   \n",
              "\n",
              "          Duration   Heart Rate          BMI  Exercise Intensity  \n",
              "count  3864.000000  3864.000000  3864.000000         3864.000000  \n",
              "mean     40.190994   139.777950    26.801977            5.457298  \n",
              "std      11.765957    23.447528     4.746745            2.850896  \n",
              "min      20.000000   100.000000    18.500014            1.000000  \n",
              "25%      30.000000   119.000000    22.686774            3.000000  \n",
              "50%      40.000000   140.000000    26.861656            5.000000  \n",
              "75%      51.000000   160.000000    30.950380            8.000000  \n",
              "max      60.000000   180.000000    34.996639           10.000000  "
            ]
          },
          "execution_count": 105,
          "metadata": {},
          "output_type": "execute_result"
        }
      ],
      "source": [
        "# get some statistical measures about the data\n",
        "calories.describe()"
      ]
    },
    {
      "cell_type": "markdown",
      "metadata": {
        "id": "0t8EoEUaiHeZ"
      },
      "source": [
        "Data Visualization"
      ]
    },
    {
      "cell_type": "code",
      "execution_count": 106,
      "metadata": {
        "id": "xU4y4ZsIhiKE"
      },
      "outputs": [],
      "source": [
        "sns.set()"
      ]
    },
    {
      "cell_type": "code",
      "execution_count": 107,
      "metadata": {
        "colab": {
          "base_uri": "https://localhost:8080/",
          "height": 355
        },
        "id": "MuzLivXSiMwi",
        "outputId": "d6ce6c29-320b-4e5c-89eb-af77aec2aef5"
      },
      "outputs": [
        {
          "name": "stderr",
          "output_type": "stream",
          "text": [
            "c:\\Users\\unhmguest\\miniconda3\\envs\\test_ai\\lib\\site-packages\\seaborn\\_decorators.py:36: FutureWarning: Pass the following variable as a keyword arg: x. From version 0.12, the only valid positional argument will be `data`, and passing other arguments without an explicit keyword will result in an error or misinterpretation.\n",
            "  warnings.warn(\n"
          ]
        },
        {
          "data": {
            "text/plain": [
              "<matplotlib.axes._subplots.AxesSubplot at 0x2840163ddc0>"
            ]
          },
          "execution_count": 107,
          "metadata": {},
          "output_type": "execute_result"
        },
        {
          "data": {
            "image/png": "[encoded data removed]",
            "text/plain": [
              "<Figure size 640x480 with 1 Axes>"
            ]
          },
          "metadata": {},
          "output_type": "display_data"
        }
      ],
      "source": [
        "# plotting the gender column in count plot\n",
        "sns.countplot(calories['Gender'])"
      ]
    },
    {
      "cell_type": "code",
      "execution_count": 108,
      "metadata": {
        "colab": {
          "base_uri": "https://localhost:8080/",
          "height": 355
        },
        "id": "UhcoOmdRihmk",
        "outputId": "2c80ced0-94be-439e-aed5-f73d630576b3"
      },
      "outputs": [
        {
          "name": "stderr",
          "output_type": "stream",
          "text": [
            "c:\\Users\\unhmguest\\miniconda3\\envs\\test_ai\\lib\\site-packages\\seaborn\\distributions.py:2619: FutureWarning: `distplot` is a deprecated function and will be removed in a future version. Please adapt your code to use either `displot` (a figure-level function with similar flexibility) or `histplot` (an axes-level function for histograms).\n",
            "  warnings.warn(msg, FutureWarning)\n"
          ]
        },
        {
          "data": {
            "text/plain": [
              "<matplotlib.axes._subplots.AxesSubplot at 0x2840179aa60>"
            ]
          },
          "execution_count": 108,
          "metadata": {},
          "output_type": "execute_result"
        },
        {
          "data": {
            "image/png": "[encoded data removed]",
            "text/plain": [
              "<Figure size 640x480 with 1 Axes>"
            ]
          },
          "metadata": {},
          "output_type": "display_data"
        }
      ],
      "source": [
        "# finding the distribution of \"Age\" column\n",
        "sns.distplot(calories['Age'])"
      ]
    },
    {
      "cell_type": "code",
      "execution_count": 109,
      "metadata": {
        "colab": {
          "base_uri": "https://localhost:8080/",
          "height": 355
        },
        "id": "FZDTaUmfjBzk",
        "outputId": "165d6d55-6d08-4469-b502-01e288986ecf"
      },
      "outputs": [],
      "source": [
        "# finding the distribution of \"Height\" column\n",
        "#sns.distplot(calories['Height'])"
      ]
    },
    {
      "cell_type": "code",
      "execution_count": 110,
      "metadata": {
        "colab": {
          "base_uri": "https://localhost:8080/",
          "height": 355
        },
        "id": "JhP8EIrqjV_e",
        "outputId": "225e6daf-8ea3-4051-964d-204184eb55d2"
      },
      "outputs": [
        {
          "name": "stderr",
          "output_type": "stream",
          "text": [
            "c:\\Users\\unhmguest\\miniconda3\\envs\\test_ai\\lib\\site-packages\\seaborn\\distributions.py:2619: FutureWarning: `distplot` is a deprecated function and will be removed in a future version. Please adapt your code to use either `displot` (a figure-level function with similar flexibility) or `histplot` (an axes-level function for histograms).\n",
            "  warnings.warn(msg, FutureWarning)\n"
          ]
        },
        {
          "data": {
            "text/plain": [
              "<matplotlib.axes._subplots.AxesSubplot at 0x284017ec730>"
            ]
          },
          "execution_count": 110,
          "metadata": {},
          "output_type": "execute_result"
        },
        {
          "data": {
            "image/png": "[encoded data removed]",
            "text/plain": [
              "<Figure size 640x480 with 1 Axes>"
            ]
          },
          "metadata": {},
          "output_type": "display_data"
        }
      ],
      "source": [
        "# finding the distribution of \"Weight\" column\n",
        "sns.distplot(calories['Actual Weight'])"
      ]
    },
    {
      "cell_type": "markdown",
      "metadata": {
        "id": "N9TJtsGnjrZs"
      },
      "source": [
        "Finding the Correlation in the dataset"
      ]
    },
    {
      "cell_type": "markdown",
      "metadata": {
        "id": "f6cFMyI3jzPb"
      },
      "source": [
        "1. Positive Correlation\n",
        "2. Negative Correlation"
      ]
    },
    {
      "cell_type": "code",
      "execution_count": 111,
      "metadata": {
        "id": "2UFA5ZOujfbh"
      },
      "outputs": [],
      "source": [
        "correlation = calories.corr()"
      ]
    },
    {
      "cell_type": "code",
      "execution_count": 112,
      "metadata": {
        "colab": {
          "base_uri": "https://localhost:8080/",
          "height": 619
        },
        "id": "dtp36oCBjyQI",
        "outputId": "38976e6d-201b-4f52-8c7a-1fc7ea5c01be"
      },
      "outputs": [
        {
          "data": {
            "text/plain": [
              "<matplotlib.axes._subplots.AxesSubplot at 0x284011e2730>"
            ]
          },
          "execution_count": 112,
          "metadata": {},
          "output_type": "execute_result"
        },
        {
          "data": {
            "image/png": "[encoded data removed]",
            "text/plain": [
              "<Figure size 1000x1000 with 2 Axes>"
            ]
          },
          "metadata": {},
          "output_type": "display_data"
        }
      ],
      "source": [
        "# constructing a heatmap to understand the correlation\n",
        "\n",
        "plt.figure(figsize=(10,10))\n",
        "sns.heatmap(correlation, cbar=True, square=True, fmt='.1f', annot=True, annot_kws={'size':8}, cmap='Blues')\n"
      ]
    },
    {
      "cell_type": "markdown",
      "metadata": {
        "id": "PNxKhdn_lxOC"
      },
      "source": [
        "Converting the text data to numerical values"
      ]
    },
    {
      "cell_type": "code",
      "execution_count": 113,
      "metadata": {
        "id": "lvlWPvd_k2hw"
      },
      "outputs": [],
      "source": [
        "calories.replace({\"Gender\":{'Male':0,'Female':1}}, inplace=True)"
      ]
    },
    {
      "cell_type": "code",
      "execution_count": 114,
      "metadata": {
        "colab": {
          "base_uri": "https://localhost:8080/",
          "height": 196
        },
        "id": "Co_h1CUZmMB0",
        "outputId": "82aa7a91-30b0-4b6e-82a4-4161199bbf4e"
      },
      "outputs": [
        {
          "data": {
            "text/html": [
              "<div>\n",
              "<style scoped>\n",
              "    .dataframe tbody tr th:only-of-type {\n",
              "        vertical-align: middle;\n",
              "    }\n",
              "\n",
              "    .dataframe tbody tr th {\n",
              "        vertical-align: top;\n",
              "    }\n",
              "\n",
              "    .dataframe thead th {\n",
              "        text-align: right;\n",
              "    }\n",
              "</style>\n",
              "<table border=\"1\" class=\"dataframe\">\n",
              "  <thead>\n",
              "    <tr style=\"text-align: right;\">\n",
              "      <th></th>\n",
              "      <th>ID</th>\n",
              "      <th>Exercise</th>\n",
              "      <th>Calories Burn</th>\n",
              "      <th>Dream Weight</th>\n",
              "      <th>Actual Weight</th>\n",
              "      <th>Age</th>\n",
              "      <th>Gender</th>\n",
              "      <th>Duration</th>\n",
              "      <th>Heart Rate</th>\n",
              "      <th>BMI</th>\n",
              "      <th>Weather Conditions</th>\n",
              "      <th>Exercise Intensity</th>\n",
              "    </tr>\n",
              "  </thead>\n",
              "  <tbody>\n",
              "    <tr>\n",
              "      <th>0</th>\n",
              "      <td>1</td>\n",
              "      <td>Exercise 2</td>\n",
              "      <td>286.959851</td>\n",
              "      <td>91.892531</td>\n",
              "      <td>96.301115</td>\n",
              "      <td>45</td>\n",
              "      <td>0</td>\n",
              "      <td>37</td>\n",
              "      <td>170</td>\n",
              "      <td>29.426275</td>\n",
              "      <td>Rainy</td>\n",
              "      <td>5</td>\n",
              "    </tr>\n",
              "    <tr>\n",
              "      <th>1</th>\n",
              "      <td>2</td>\n",
              "      <td>Exercise 7</td>\n",
              "      <td>343.453036</td>\n",
              "      <td>64.165097</td>\n",
              "      <td>61.104668</td>\n",
              "      <td>25</td>\n",
              "      <td>0</td>\n",
              "      <td>43</td>\n",
              "      <td>142</td>\n",
              "      <td>21.286346</td>\n",
              "      <td>Rainy</td>\n",
              "      <td>5</td>\n",
              "    </tr>\n",
              "    <tr>\n",
              "      <th>2</th>\n",
              "      <td>3</td>\n",
              "      <td>Exercise 4</td>\n",
              "      <td>261.223465</td>\n",
              "      <td>70.846224</td>\n",
              "      <td>71.766724</td>\n",
              "      <td>20</td>\n",
              "      <td>0</td>\n",
              "      <td>20</td>\n",
              "      <td>148</td>\n",
              "      <td>27.899592</td>\n",
              "      <td>Cloudy</td>\n",
              "      <td>4</td>\n",
              "    </tr>\n",
              "    <tr>\n",
              "      <th>3</th>\n",
              "      <td>4</td>\n",
              "      <td>Exercise 5</td>\n",
              "      <td>127.183858</td>\n",
              "      <td>79.477008</td>\n",
              "      <td>82.984456</td>\n",
              "      <td>33</td>\n",
              "      <td>0</td>\n",
              "      <td>39</td>\n",
              "      <td>170</td>\n",
              "      <td>33.729552</td>\n",
              "      <td>Sunny</td>\n",
              "      <td>10</td>\n",
              "    </tr>\n",
              "    <tr>\n",
              "      <th>4</th>\n",
              "      <td>5</td>\n",
              "      <td>Exercise 10</td>\n",
              "      <td>416.318374</td>\n",
              "      <td>89.960226</td>\n",
              "      <td>85.643174</td>\n",
              "      <td>29</td>\n",
              "      <td>1</td>\n",
              "      <td>34</td>\n",
              "      <td>118</td>\n",
              "      <td>23.286113</td>\n",
              "      <td>Cloudy</td>\n",
              "      <td>3</td>\n",
              "    </tr>\n",
              "  </tbody>\n",
              "</table>\n",
              "</div>"
            ],
            "text/plain": [
              "   ID     Exercise  Calories Burn  Dream Weight  Actual Weight  Age  Gender  \\\n",
              "0   1   Exercise 2     286.959851     91.892531      96.301115   45       0   \n",
              "1   2   Exercise 7     343.453036     64.165097      61.104668   25       0   \n",
              "2   3   Exercise 4     261.223465     70.846224      71.766724   20       0   \n",
              "3   4   Exercise 5     127.183858     79.477008      82.984456   33       0   \n",
              "4   5  Exercise 10     416.318374     89.960226      85.643174   29       1   \n",
              "\n",
              "   Duration  Heart Rate        BMI Weather Conditions  Exercise Intensity  \n",
              "0        37         170  29.426275              Rainy                   5  \n",
              "1        43         142  21.286346              Rainy                   5  \n",
              "2        20         148  27.899592             Cloudy                   4  \n",
              "3        39         170  33.729552              Sunny                  10  \n",
              "4        34         118  23.286113             Cloudy                   3  "
            ]
          },
          "execution_count": 114,
          "metadata": {},
          "output_type": "execute_result"
        }
      ],
      "source": [
        "calories.head()"
      ]
    },
    {
      "cell_type": "markdown",
      "metadata": {
        "id": "zDrUQynrm5OZ"
      },
      "source": [
        "Separating features and Target"
      ]
    },
    {
      "cell_type": "code",
      "execution_count": 115,
      "metadata": {
        "id": "yNX7qV5dmh-o"
      },
      "outputs": [],
      "source": [
        "le = LabelEncoder()\n",
        "calories['Exercise'] = le.fit_transform(calories['Exercise'])\n",
        "calories['Weather Conditions'] = le.fit_transform(calories['Weather Conditions'])\n",
        "X = calories.drop(columns=['ID','Calories Burn'], axis=1)\n",
        "Y = calories['Calories Burn']"
      ]
    },
    {
      "cell_type": "code",
      "execution_count": 116,
      "metadata": {
        "colab": {
          "base_uri": "https://localhost:8080/"
        },
        "id": "l9_t_RaknWMS",
        "outputId": "7a5ccbbd-0302-428f-b124-1c55de8c09ed"
      },
      "outputs": [
        {
          "name": "stdout",
          "output_type": "stream",
          "text": [
            "      Exercise  Dream Weight  Actual Weight  Age  Gender  Duration  \\\n",
            "0            2     91.892531      96.301115   45       0        37   \n",
            "1            7     64.165097      61.104668   25       0        43   \n",
            "2            4     70.846224      71.766724   20       0        20   \n",
            "3            5     79.477008      82.984456   33       0        39   \n",
            "4            1     89.960226      85.643174   29       1        34   \n",
            "...        ...           ...            ...  ...     ...       ...   \n",
            "3859         5     98.147291      96.745133   20       1        22   \n",
            "3860         4     97.598957      92.700573   21       1        49   \n",
            "3861         4     94.946612      96.778936   57       0        56   \n",
            "3862         9     64.743906      68.662889   58       1        60   \n",
            "3863         7     56.757424      59.833403   35       0        22   \n",
            "\n",
            "      Heart Rate        BMI  Weather Conditions  Exercise Intensity  \n",
            "0            170  29.426275                   1                   5  \n",
            "1            142  21.286346                   1                   5  \n",
            "2            148  27.899592                   0                   4  \n",
            "3            170  33.729552                   2                  10  \n",
            "4            118  23.286113                   0                   3  \n",
            "...          ...        ...                 ...                 ...  \n",
            "3859         139  32.447764                   0                   7  \n",
            "3860         160  26.602475                   1                   5  \n",
            "3861         167  31.435348                   1                   9  \n",
            "3862         128  19.774614                   1                   1  \n",
            "3863         134  29.581330                   1                   1  \n",
            "\n",
            "[3864 rows x 10 columns]\n"
          ]
        }
      ],
      "source": [
        "print(X)"
      ]
    },
    {
      "cell_type": "code",
      "execution_count": 117,
      "metadata": {
        "colab": {
          "base_uri": "https://localhost:8080/"
        },
        "id": "Up5-uH0qnXdD",
        "outputId": "47e4c08f-afea-4288-f184-4ac401781c68"
      },
      "outputs": [
        {
          "name": "stdout",
          "output_type": "stream",
          "text": [
            "0       286.959851\n",
            "1       343.453036\n",
            "2       261.223465\n",
            "3       127.183858\n",
            "4       416.318374\n",
            "           ...    \n",
            "3859    154.113144\n",
            "3860    486.392768\n",
            "3861    264.307731\n",
            "3862    185.951870\n",
            "3863    116.360417\n",
            "Name: Calories Burn, Length: 3864, dtype: float64\n"
          ]
        }
      ],
      "source": [
        "print(Y)"
      ]
    },
    {
      "cell_type": "markdown",
      "metadata": {
        "id": "mzj0j0m-nfS7"
      },
      "source": [
        "Splitting the data into training data and Test data"
      ]
    },
    {
      "cell_type": "code",
      "execution_count": 118,
      "metadata": {
        "id": "lVpEUea_naiH"
      },
      "outputs": [],
      "source": [
        "X_train, X_test, Y_train, Y_test = train_test_split(X, Y, test_size=0.2, random_state=2)"
      ]
    },
    {
      "cell_type": "code",
      "execution_count": 119,
      "metadata": {
        "colab": {
          "base_uri": "https://localhost:8080/"
        },
        "id": "b5bBE7wRoPw9",
        "outputId": "99855aa4-40ef-484b-e264-53bf21082f03"
      },
      "outputs": [
        {
          "name": "stdout",
          "output_type": "stream",
          "text": [
            "(3864, 10) (3091, 10) (773, 10)\n"
          ]
        }
      ],
      "source": [
        "print(X.shape, X_train.shape, X_test.shape)\n",
        "#print(Y_test)"
      ]
    },
    {
      "cell_type": "markdown",
      "metadata": {
        "id": "TV84xw6Goeh6"
      },
      "source": [
        "Model Training"
      ]
    },
    {
      "cell_type": "markdown",
      "metadata": {
        "id": "VnB7kvETogu1"
      },
      "source": [
        "XGBoost Regressor"
      ]
    },
    {
      "cell_type": "code",
      "execution_count": 120,
      "metadata": {
        "id": "9C4PUD9noX10"
      },
      "outputs": [],
      "source": [
        "# loading the model\n",
        "model_1 = XGBRegressor()\n",
        "model_2 = LinearRegression()"
      ]
    },
    {
      "cell_type": "code",
      "execution_count": 121,
      "metadata": {
        "colab": {
          "base_uri": "https://localhost:8080/"
        },
        "id": "nSNxHXUBowJ4",
        "outputId": "78067fba-1487-4df5-b2d6-80f8a0991296"
      },
      "outputs": [
        {
          "data": {
            "text/html": [
              "<style>#sk-container-id-6 {color: black;}#sk-container-id-6 pre{padding: 0;}#sk-container-id-6 div.sk-toggleable {background-color: white;}#sk-container-id-6 label.sk-toggleable__label {cursor: pointer;display: block;width: 100%;margin-bottom: 0;padding: 0.3em;box-sizing: border-box;text-align: center;}#sk-container-id-6 label.sk-toggleable__label-arrow:before {content: \"▸\";float: left;margin-right: 0.25em;color: #696969;}#sk-container-id-6 label.sk-toggleable__label-arrow:hover:before {color: black;}#sk-container-id-6 div.sk-estimator:hover label.sk-toggleable__label-arrow:before {color: black;}#sk-container-id-6 div.sk-toggleable__content {max-height: 0;max-width: 0;overflow: hidden;text-align: left;background-color: #f0f8ff;}#sk-container-id-6 div.sk-toggleable__content pre {margin: 0.2em;color: black;border-radius: 0.25em;background-color: #f0f8ff;}#sk-container-id-6 input.sk-toggleable__control:checked~div.sk-toggleable__content {max-height: 200px;max-width: 100%;overflow: auto;}#sk-container-id-6 input.sk-toggleable__control:checked~label.sk-toggleable__label-arrow:before {content: \"▾\";}#sk-container-id-6 div.sk-estimator input.sk-toggleable__control:checked~label.sk-toggleable__label {background-color: #d4ebff;}#sk-container-id-6 div.sk-label input.sk-toggleable__control:checked~label.sk-toggleable__label {background-color: #d4ebff;}#sk-container-id-6 input.sk-hidden--visually {border: 0;clip: rect(1px 1px 1px 1px);clip: rect(1px, 1px, 1px, 1px);height: 1px;margin: -1px;overflow: hidden;padding: 0;position: absolute;width: 1px;}#sk-container-id-6 div.sk-estimator {font-family: monospace;background-color: #f0f8ff;border: 1px dotted black;border-radius: 0.25em;box-sizing: border-box;margin-bottom: 0.5em;}#sk-container-id-6 div.sk-estimator:hover {background-color: #d4ebff;}#sk-container-id-6 div.sk-parallel-item::after {content: \"\";width: 100%;border-bottom: 1px solid gray;flex-grow: 1;}#sk-container-id-6 div.sk-label:hover label.sk-toggleable__label {background-color: #d4ebff;}#sk-container-id-6 div.sk-serial::before {content: \"\";position: absolute;border-left: 1px solid gray;box-sizing: border-box;top: 0;bottom: 0;left: 50%;z-index: 0;}#sk-container-id-6 div.sk-serial {display: flex;flex-direction: column;align-items: center;background-color: white;padding-right: 0.2em;padding-left: 0.2em;position: relative;}#sk-container-id-6 div.sk-item {position: relative;z-index: 1;}#sk-container-id-6 div.sk-parallel {display: flex;align-items: stretch;justify-content: center;background-color: white;position: relative;}#sk-container-id-6 div.sk-item::before, #sk-container-id-6 div.sk-parallel-item::before {content: \"\";position: absolute;border-left: 1px solid gray;box-sizing: border-box;top: 0;bottom: 0;left: 50%;z-index: -1;}#sk-container-id-6 div.sk-parallel-item {display: flex;flex-direction: column;z-index: 1;position: relative;background-color: white;}#sk-container-id-6 div.sk-parallel-item:first-child::after {align-self: flex-end;width: 50%;}#sk-container-id-6 div.sk-parallel-item:last-child::after {align-self: flex-start;width: 50%;}#sk-container-id-6 div.sk-parallel-item:only-child::after {width: 0;}#sk-container-id-6 div.sk-dashed-wrapped {border: 1px dashed gray;margin: 0 0.4em 0.5em 0.4em;box-sizing: border-box;padding-bottom: 0.4em;background-color: white;}#sk-container-id-6 div.sk-label label {font-family: monospace;font-weight: bold;display: inline-block;line-height: 1.2em;}#sk-container-id-6 div.sk-label-container {text-align: center;}#sk-container-id-6 div.sk-container {/* jupyter's `normalize.less` sets `[hidden] { display: none; }` but bootstrap.min.css set `[hidden] { display: none !important; }` so we also need the `!important` here to be able to override the default hidden behavior on the sphinx rendered scikit-learn.org. See: https://github.com/scikit-learn/scikit-learn/issues/21755 */display: inline-block !important;position: relative;}#sk-container-id-6 div.sk-text-repr-fallback {display: none;}</style><div id=\"sk-container-id-6\" class=\"sk-top-container\"><div class=\"sk-text-repr-fallback\"><pre>LinearRegression()</pre><b>In a Jupyter environment, please rerun this cell to show the HTML representation or trust the notebook. <br />On GitHub, the HTML representation is unable to render, please try loading this page with nbviewer.org.</b></div><div class=\"sk-container\" hidden><div class=\"sk-item\"><div class=\"sk-estimator sk-toggleable\"><input class=\"sk-toggleable__control sk-hidden--visually\" id=\"sk-estimator-id-6\" type=\"checkbox\" checked><label for=\"sk-estimator-id-6\" class=\"sk-toggleable__label sk-toggleable__label-arrow\">LinearRegression</label><div class=\"sk-toggleable__content\"><pre>LinearRegression()</pre></div></div></div></div></div>"
            ],
            "text/plain": [
              "LinearRegression()"
            ]
          },
          "execution_count": 121,
          "metadata": {},
          "output_type": "execute_result"
        }
      ],
      "source": [
        "# training the model with X_train\n",
        "model_1.fit(X_train, Y_train)\n",
        "model_2.fit(X_train, Y_train)"
      ]
    },
    {
      "cell_type": "markdown",
      "metadata": {
        "id": "YmzboOlDpOBV"
      },
      "source": [
        "Evaluation"
      ]
    },
    {
      "cell_type": "markdown",
      "metadata": {
        "id": "uWyeJ2B0pTjl"
      },
      "source": [
        "Prediction on Test Data"
      ]
    },
    {
      "cell_type": "code",
      "execution_count": 122,
      "metadata": {
        "id": "6fwoa12gpD1A"
      },
      "outputs": [],
      "source": [
        "test_data_prediction_1 = model_1.predict(X_test)\n",
        "test_data_prediction_2 = model_2.predict(X_test)"
      ]
    },
    {
      "cell_type": "code",
      "execution_count": null,
      "metadata": {},
      "outputs": [],
      "source": [
        "print(Y_test)"
      ]
    },
    {
      "cell_type": "code",
      "execution_count": 126,
      "metadata": {
        "colab": {
          "base_uri": "https://localhost:8080/"
        },
        "id": "elvZfEW_pnwa",
        "outputId": "b102fdab-05be-4f66-c126-ab282fa07c5b"
      },
      "outputs": [
        {
          "name": "stdout",
          "output_type": "stream",
          "text": [
            "[301.97757  319.59528  296.64957  207.36674  277.3059   257.241\n",
            " 217.3606   311.80682  284.31113  294.6803   349.23416  256.86157\n",
            " 341.07803  377.84174  316.27335  312.991    318.86115  281.06036\n",
            " 303.4036   264.17264  305.21606  308.8385   269.7443   416.64563\n",
            " 389.75272  356.73175  318.824    387.78342  374.71768  280.61996\n",
            " 359.30835  326.9086   282.43503  313.01157  228.45906  345.64905\n",
            " 341.6785   203.49797  283.29303  305.0043   282.6824   301.53845\n",
            " 308.3462   254.45152  188.04457  311.169    305.42737  220.48181\n",
            " 377.1      291.23172  262.13577  334.21753  243.45494  420.49014\n",
            " 447.34674  344.83685  312.82635  308.3086   315.38916  343.2947\n",
            " 315.18848  316.04926  449.60855  354.28766  170.50333  281.07098\n",
            " 206.77153  282.47116  305.6027   226.88153  290.34964  231.51738\n",
            " 364.9222   259.4428   319.28375  278.26303  270.32404  309.65982\n",
            " 364.6358   330.18912  318.85587  347.93906  325.05408  283.63248\n",
            " 320.98096  223.13239  208.15285  249.80919  295.55203  220.86766\n",
            " 280.11725  349.4677   305.95392  308.7515   365.89023  296.8246\n",
            " 300.23633  330.17392  173.33995  348.26306  326.39395  275.91876\n",
            " 394.41443  382.40918  331.827    315.6598   302.27176  293.6619\n",
            " 261.6139   348.1412   333.88156  341.0357   284.0969   248.88405\n",
            " 316.85275  320.7506   357.38284  315.88074  252.86621  296.532\n",
            " 243.62303  282.19446  250.40953  283.3406   338.83496  339.21057\n",
            " 345.10944  437.87088  306.86285  206.42032  279.6929   293.562\n",
            " 250.58876  317.05383  335.48694  248.07994  279.59497  241.75027\n",
            " 317.24585  329.71036  323.33005  280.97766  273.25226  277.8957\n",
            " 252.9612   365.6711   310.06985  249.47853  276.6673   279.01688\n",
            " 236.50531  309.296    318.17883  235.8465   327.49304  198.10634\n",
            " 219.9608   354.18277  302.61038  320.18973  376.7365   353.80685\n",
            " 267.85507  317.80463  286.89676  311.5609   261.37415  268.00522\n",
            " 324.94864  315.12894  251.22409  250.8178   333.85828  357.53937\n",
            " 286.51318  218.47986  273.6687   247.70872  365.50528  334.18124\n",
            " 277.73026  355.76157  326.12006  221.51567  243.58354  367.38647\n",
            " 336.26944  291.51358  304.59903  375.34647  354.097    316.774\n",
            " 329.5498   300.2361   343.73502  278.8694   291.79028  315.5886\n",
            " 256.1349   275.46518  312.7921   238.08087  337.29413  259.03214\n",
            " 265.4386   259.724    239.97865  275.6604   271.6079   251.07147\n",
            " 295.7309   345.23093  380.51944  230.8813   376.77618  252.54698\n",
            " 296.56308  345.35657  319.3447   352.52     275.44495  303.40085\n",
            " 299.2339   196.28088  290.4298   255.47963  291.7183   323.29855\n",
            " 350.6963   351.0152   374.78265  328.30872  222.71576  223.91771\n",
            " 349.2083   280.78384  259.4642   257.73276  229.29747  287.18967\n",
            " 294.4116   344.66214  367.20706  261.9904   314.5661   184.65465\n",
            " 304.49063  289.677    239.60663  333.12515  400.14005  263.7681\n",
            " 402.26468  219.16905  388.04526  255.84615  317.31198  326.3211\n",
            " 339.4743   299.8853   386.5507   332.09366  338.64966  266.20535\n",
            " 193.91801  263.63303  366.6763   293.80838  306.8246   314.0938\n",
            " 294.07306  284.82465  272.15338  222.0819   341.47195  302.3336\n",
            " 248.00443  312.23065  383.23193  280.24362  300.30228  275.97552\n",
            " 233.98079  293.59976  439.11734  318.66248  316.61548  341.37634\n",
            " 375.89395  306.12787  357.2071   306.3658   411.5092   378.0508\n",
            " 281.76602  266.72116  322.8706   345.5086   317.68005  277.8207\n",
            " 275.65308  301.77768  368.83524  243.58904  290.42288  327.84442\n",
            " 241.00435  316.19226  371.6131   332.93713  332.0467   307.688\n",
            " 318.18454  354.39737  346.7659   256.83185  309.2966   299.52347\n",
            " 351.28598  367.0171   387.5244   348.02316  277.85214  346.169\n",
            " 223.34264  345.7764   274.64282  266.06577  288.46857  195.14746\n",
            " 318.80154  266.40546  215.6308   303.47342  272.90814  325.03714\n",
            " 231.27625  262.84976  307.82245  406.23718  291.43384  321.65546\n",
            " 288.8828   237.26822  307.6018   119.126854 268.5297   276.36386\n",
            " 245.62228  323.20523  300.0205   287.19342  272.69193  273.06277\n",
            " 321.6995   319.3383   226.70511  359.3742   215.90758  271.4006\n",
            " 270.6056   242.04984  301.67963  216.0126   272.50827  304.52423\n",
            " 282.79553  353.29034  267.9016   249.17854  354.0415   399.20145\n",
            " 341.60974  252.27295  251.22624  400.95938  327.34937  261.23465\n",
            " 313.0981   335.82736  288.97195  309.55615  336.6708   345.052\n",
            " 398.17175  277.623    238.8023   250.25629  282.84488  330.16748\n",
            " 215.99475  314.81555  239.7029   283.13928  228.02672  240.33125\n",
            " 264.9695   278.0327   339.9438   288.96317  206.76872  201.87514\n",
            " 325.3656   226.31497  377.39746  227.24377  268.75662  310.19827\n",
            " 367.63403  291.71243  336.36008  259.16757  235.63971  317.6049\n",
            " 425.18448  376.4598   319.7397   337.1472   358.71948  254.38062\n",
            " 266.1504   243.629    286.64008  350.29086  212.87346  359.67514\n",
            " 273.93076  420.69293  306.96017  396.94693  330.19064  279.36887\n",
            " 229.2258   357.49738  310.1955   325.00558  292.8004   279.90228\n",
            " 322.6731   260.72467  310.56085  239.45966  376.36462  221.74144\n",
            " 345.02515  286.34842  275.15414  232.78227  341.10648  292.19843\n",
            " 396.68213  236.79573  261.5792   362.8494   248.67792  412.43954\n",
            " 306.6012   316.3041   315.42206  360.164    215.16737  341.06195\n",
            " 224.44019  361.32465  315.78568  380.49908  294.94235  316.40173\n",
            " 388.05594  227.1084   294.15427  250.75233  320.4851   307.62366\n",
            " 465.10556  271.28528  321.195    306.93787  256.6967   279.84177\n",
            " 248.4871   279.23325  302.09164  354.69034  296.79047  325.3027\n",
            " 296.66284  411.00824  356.7206   369.3633   361.0843   292.47723\n",
            " 413.47437  243.5777   337.2327   146.25197  283.70172  384.6547\n",
            " 358.73245  312.5604   322.2408   295.7799   348.07513  383.2322\n",
            " 265.76743  325.28647  301.02396  358.23215  403.5183   230.39214\n",
            " 170.66669  311.99478  275.53284  333.38248  335.95526  344.78836\n",
            " 315.0398   265.20145  300.12894  321.62598  309.43286  410.45947\n",
            " 382.4522   250.35521  343.5711   236.63742  290.92297  245.62476\n",
            " 300.30914  354.72394  327.9435   348.02408  292.2222   402.8498\n",
            " 335.90814  187.98834  273.0816   247.66281  287.61963  382.19214\n",
            " 295.55063  293.60358  382.74792  251.29991  320.79306  274.05362\n",
            " 291.97925  353.54388  370.7645   234.52794  309.10764  393.67404\n",
            " 285.1671   306.81894  296.89804  392.02438  203.61217  270.0811\n",
            " 402.6231   375.24997  333.17673  261.1819   398.252    299.0276\n",
            " 353.84995  386.702    278.1662   286.11847  288.80753  204.15068\n",
            " 358.53754  370.68048  313.70407  328.7197   292.42676  324.73154\n",
            " 268.6379   246.20018  248.78683  342.95786  319.58316  286.154\n",
            " 328.82092  272.3652   345.99774  310.63626  385.93787  254.52486\n",
            " 367.2719   266.31406  385.81317  186.88812  260.61606  268.28784\n",
            " 310.96722  218.97118  287.50058  330.46225  262.72736  269.7886\n",
            " 337.53897  340.84415  296.65985  294.82938  291.0935   285.13892\n",
            " 334.56686  278.3512   357.48346  232.4334   366.52362  239.85497\n",
            " 329.52658  349.48273  231.86977  377.29056  268.25934  319.74408\n",
            " 281.1584   343.17245  352.2056   275.5213   330.30118  323.15677\n",
            " 206.40025  341.26944  325.542    246.30188  260.27853  270.62344\n",
            " 336.9779   439.55258  238.5356   298.707    307.2334   302.7067\n",
            " 335.54324  315.41632  273.64377  413.96463  329.3093   213.55566\n",
            " 265.5473   317.4332   305.02695  331.7756   332.46503  353.51877\n",
            " 281.37125  263.42868  313.27267  380.27637  206.83769  355.79373\n",
            " 213.80466  281.87262  314.2387   359.38846  311.23282  358.1748\n",
            " 378.87524  256.87387  299.30273  300.91916  286.91635  336.42023\n",
            " 236.47748  356.36542  312.26184  340.79916  319.9465   304.0494\n",
            " 310.26877  274.30988  323.273    332.43845  245.38927  323.5445\n",
            " 339.54752  300.7961   272.29874  297.0654   297.73495  338.65823\n",
            " 227.39182  365.86694  381.54684  221.17436  278.34912  348.18573\n",
            " 333.8455   250.52657  332.13367  163.66849  362.67844  375.23715\n",
            " 298.2315   252.34633  282.51517  353.32092  312.0442   363.59488\n",
            " 275.05545  298.7798   331.63916  232.90588  339.1925   286.48233\n",
            " 249.41266  260.65463  281.70142  166.12411  347.17133  282.75455\n",
            " 199.95206  309.96393  358.87985  363.0599   290.29285  421.89264\n",
            " 272.59372  283.26453  275.6761   302.5829   292.76852  208.59575\n",
            " 296.00644  287.04343  294.07013  294.6616   331.42438  247.20032\n",
            " 280.96375  445.9451   291.9545   320.3651   225.37779  323.46014\n",
            " 381.84732  345.13138  263.8635   338.3467   325.32794  325.5294\n",
            " 344.00464  345.71515  376.35657  301.27856  321.93765  372.73322\n",
            " 365.6075   314.2088   252.1988   313.26865  291.25443  280.88245\n",
            " 239.71005  351.16388  284.262    385.77884  305.66064  260.91806\n",
            " 244.56975  287.87952  383.81165  329.17194  327.9839   345.26315\n",
            " 248.76009  330.4106   242.72806  378.6085   291.22034 ]\n"
          ]
        }
      ],
      "source": [
        "print(test_data_prediction_1)\n"
      ]
    },
    {
      "cell_type": "code",
      "execution_count": 127,
      "metadata": {},
      "outputs": [
        {
          "name": "stdout",
          "output_type": "stream",
          "text": [
            "[302.11064695 303.12574125 283.39481546 297.67143845 294.46577464\n",
            " 298.4219156  285.9433609  293.19061271 298.00700506 306.88324128\n",
            " 293.15927437 306.22964717 316.67374079 328.39435607 299.44384851\n",
            " 291.86067217 297.79866144 314.09751491 301.9901843  335.93546996\n",
            " 298.53910749 307.03230224 295.70016299 287.95767011 314.58890441\n",
            " 295.33213505 292.95065274 294.9371687  297.97263159 301.73190321\n",
            " 308.43810381 320.47686308 307.95311748 298.11330032 281.05469657\n",
            " 312.04665412 301.4404758  282.17553955 292.97862116 306.39786747\n",
            " 308.7956307  314.360704   293.58121337 296.4416411  298.99044326\n",
            " 306.986743   297.35772725 305.33932007 307.36654463 299.92015675\n",
            " 294.78876943 314.31382916 310.57224789 287.22890587 295.54853396\n",
            " 287.99067995 301.24385476 294.7278109  297.55883983 299.30771544\n",
            " 300.7303562  315.28682491 303.75245289 307.86816492 285.47482646\n",
            " 311.99035417 293.21832547 300.62555717 290.27300702 307.42400793\n",
            " 302.77281869 293.83498088 321.62491645 297.49733648 322.7908685\n",
            " 298.05022489 307.29247779 304.5609643  286.29781798 303.70745884\n",
            " 314.91743367 313.65790589 289.47176939 298.63553133 308.79049728\n",
            " 325.51319891 288.45750661 320.1984833  308.50560685 285.96051068\n",
            " 314.98475346 313.46738184 295.12825386 316.13036551 315.33927374\n",
            " 296.02704704 309.21097886 288.27488407 281.08519735 303.8021606\n",
            " 288.24560591 294.95343554 317.62783573 313.98215319 295.26849029\n",
            " 292.0166142  298.39034792 317.45912488 316.95225227 297.412572\n",
            " 293.41773439 294.80891714 321.0926457  296.53004002 296.83469201\n",
            " 313.35432919 295.0930904  320.94561314 293.00795383 309.87124842\n",
            " 293.01705669 297.20248695 318.12793175 313.50705594 302.26807961\n",
            " 304.93345717 293.87376155 310.50659976 289.08804488 320.16278963\n",
            " 306.42452379 296.94584982 286.80928174 305.85613107 317.40017847\n",
            " 306.10065742 291.06290396 306.58141775 300.26421431 320.63036048\n",
            " 295.17010367 309.77365222 290.68699818 309.21598742 313.44138916\n",
            " 291.25562622 297.97484721 322.80426072 291.25692519 297.56442414\n",
            " 309.42277973 304.0747488  307.09624848 312.78497676 305.04509962\n",
            " 275.68404261 305.99214186 305.60335391 289.47628694 306.58968469\n",
            " 325.8004784  327.31936302 308.40340424 300.33913698 296.66537613\n",
            " 300.4576401  288.69220943 298.15252971 302.00386293 303.6163608\n",
            " 290.16794099 298.83474122 313.7265933  298.425723   300.64127373\n",
            " 296.15568526 304.06895337 289.8294411  304.15188698 313.06400695\n",
            " 302.05233413 290.4664867  291.47465931 297.73625792 317.54906532\n",
            " 294.33953123 317.68003176 294.96338015 304.30917092 328.47526413\n",
            " 292.42692232 316.25421121 294.12621465 299.35597359 314.4140672\n",
            " 301.0265302  294.40070698 310.64262705 306.43600452 309.81078981\n",
            " 296.66727572 304.47686199 310.8489515  311.37439796 324.14386664\n",
            " 301.55811235 290.28090691 300.09125727 310.70514935 306.00483117\n",
            " 309.81300416 315.78742483 297.0922332  307.02693892 311.88228514\n",
            " 283.38186303 281.26701771 314.26654711 298.17609728 310.6533332\n",
            " 288.42516972 307.4073327  310.92080446 321.84903467 289.45153265\n",
            " 298.98105996 296.50656969 290.15462432 317.93680336 310.51936466\n",
            " 304.36933882 320.47816381 301.16154101 310.65638794 298.89851487\n",
            " 289.93174923 308.27445515 319.10709547 311.14358444 309.15491073\n",
            " 292.7747616  314.46975217 290.67554243 295.51273011 296.41087484\n",
            " 321.21374993 290.93330837 314.07809483 307.57201043 317.44176492\n",
            " 302.72420842 305.20555915 313.12137659 291.07010125 300.09416499\n",
            " 304.09763105 315.48536295 291.0253114  316.25164781 292.43243581\n",
            " 303.30402261 301.26796287 312.50079015 301.13802649 323.07928484\n",
            " 310.83445541 303.30664524 301.80674838 308.54675652 296.13256286\n",
            " 311.23639894 308.8692498  300.89409832 293.37907335 305.12627091\n",
            " 292.53396876 309.22765232 303.6761181  294.60048491 296.67792165\n",
            " 320.17138985 303.32273966 297.99489856 306.73881383 300.93201333\n",
            " 295.82766332 308.49682893 310.61892527 309.94106016 306.70546755\n",
            " 309.56978761 285.38113379 301.29433082 303.61496115 287.16483956\n",
            " 305.96105187 306.326726   319.46674683 305.80230805 310.56864511\n",
            " 284.94744745 291.25225516 287.36607938 307.49294695 296.3126635\n",
            " 300.22948171 303.27286654 320.34581976 317.11536531 304.73485592\n",
            " 318.87080143 289.93300145 300.55612806 321.09794453 320.82682941\n",
            " 299.17058128 298.69463386 303.84848644 280.47138985 307.65939107\n",
            " 308.94151805 309.99048763 298.98851248 317.01778796 299.84972092\n",
            " 301.19594016 309.54957405 317.22450329 304.04186111 280.00963594\n",
            " 294.83682012 276.38645433 289.42200156 296.78977557 300.45277653\n",
            " 309.72774845 300.98213369 298.80655583 298.185147   300.44336858\n",
            " 301.29747797 276.64347307 294.22071922 278.35086031 285.52714015\n",
            " 288.28143544 292.0787656  298.12471876 295.19293898 314.18451391\n",
            " 299.32784978 284.733708   303.34483918 314.34778583 293.82869999\n",
            " 298.91082136 310.44568127 297.41245552 284.94251785 309.32977918\n",
            " 295.27661946 315.14208019 313.95674919 296.18006025 301.91592336\n",
            " 323.52285419 307.13744023 295.43671576 329.19708321 318.95125128\n",
            " 312.36462962 285.45406409 295.51254092 291.94416181 304.5932841\n",
            " 313.18449234 319.61792625 291.31149861 291.63114608 305.16751052\n",
            " 287.15954701 299.64084104 300.264888   303.84246391 291.85751501\n",
            " 297.41477481 301.7446981  322.44453603 311.22277046 304.36962339\n",
            " 300.05008189 287.41475013 297.52738923 295.19264038 290.70125421\n",
            " 293.28650327 304.23003159 295.63971072 294.36019099 291.43676739\n",
            " 292.10617028 303.89732192 301.34037246 305.05129702 298.63477405\n",
            " 283.07013576 304.42498018 307.61221011 320.59931907 321.23056372\n",
            " 310.96858248 291.1307008  289.53588861 318.26208697 310.94770518\n",
            " 306.65478402 301.88906853 309.8030285  294.20929226 300.17771643\n",
            " 305.56151037 321.84291025 305.98151566 321.27182806 312.91748136\n",
            " 289.8307341  321.07676152 305.94108032 291.63918234 305.3806841\n",
            " 314.4947175  287.31422316 306.41140266 291.65699287 295.17478335\n",
            " 317.21574936 311.28023314 289.45798015 295.10827257 308.51742541\n",
            " 316.07609905 321.47012649 287.75788976 306.65031237 313.76161971\n",
            " 311.91528936 311.76521489 306.66653641 304.70561606 294.6459044\n",
            " 312.51123315 304.6824897  300.86200462 326.21916803 283.96527501\n",
            " 304.91858107 307.29316277 283.92594503 291.62385298 297.97077342\n",
            " 300.49905968 310.00875354 314.20233972 293.29852776 311.33387132\n",
            " 312.10838724 324.10319347 306.96277844 287.45604727 290.14052329\n",
            " 311.51599102 296.6075968  318.30983521 283.44043351 299.42897759\n",
            " 307.97018845 297.66507962 313.14364759 296.21738624 291.08022445\n",
            " 309.84812669 315.61852318 301.67554852 307.61102432 288.69342231\n",
            " 318.32249305 295.58319523 303.33089739 319.86530327 294.34115414\n",
            " 308.28098919 299.21255222 305.00164904 291.35538884 317.58234645\n",
            " 302.69245196 304.97968729 311.66903845 300.44886927 297.77706974\n",
            " 295.03805557 304.46931248 313.00530657 315.67675152 282.56549106\n",
            " 305.15756058 302.74639464 307.43001661 315.38410323 309.27710654\n",
            " 302.49113063 304.66601485 297.41141279 308.33299275 305.2269187\n",
            " 295.95161941 307.42048336 294.78528429 309.13186548 313.79011606\n",
            " 295.02364377 300.22691696 315.64892777 300.46488735 317.89911698\n",
            " 299.64430884 308.97646712 301.38263798 318.53505868 319.1518479\n",
            " 323.31339443 295.99711554 296.58125228 309.70746888 306.40577634\n",
            " 290.48621377 308.71451146 306.93030607 310.87237275 301.33829344\n",
            " 301.65344541 287.17061959 296.47284454 282.8701302  308.66406968\n",
            " 305.58155887 297.17142589 314.52063582 307.40315551 305.51089873\n",
            " 295.3141407  317.40704728 291.12138318 299.81090709 309.49425607\n",
            " 296.31410476 289.2952562  292.5030756  312.95339164 314.21946025\n",
            " 291.91805709 314.43447917 298.90548663 302.95928488 314.26646162\n",
            " 299.39528844 295.52494642 312.08980742 300.10094142 294.27371363\n",
            " 297.219852   297.08414186 299.45431533 286.20751939 298.77585318\n",
            " 307.89028442 306.07158433 303.74554698 303.4622381  296.90489313\n",
            " 293.87754697 302.66745505 304.91343381 290.4158695  314.67413191\n",
            " 294.03695314 292.9218079  299.95886628 317.85573277 294.4952557\n",
            " 315.57106385 286.52362603 318.31351337 312.72574077 292.92050067\n",
            " 289.34404956 303.99618149 302.81096025 296.53197401 287.98186246\n",
            " 295.96016755 295.88013415 319.37523979 293.0754578  312.14837778\n",
            " 317.28104131 310.97425752 293.88557165 308.67335857 301.8056117\n",
            " 288.61134591 309.47645221 296.45761519 300.426253   297.88472768\n",
            " 306.0505181  308.49190343 300.00605759 302.97636296 314.29966085\n",
            " 301.62865306 309.75488189 311.95780304 309.62880289 283.24788542\n",
            " 303.09172234 312.52632097 290.23197767 286.15198764 295.57194499\n",
            " 311.38956279 317.88427103 314.87788343 304.14079279 282.26012231\n",
            " 283.94222676 312.16164763 296.06557519 308.79802329 308.4100356\n",
            " 306.61433823 278.01865999 288.61979904 312.52707933 300.2424021\n",
            " 318.61474077 310.59928627 301.23033777 294.68193828 294.53261414\n",
            " 306.20076385 296.90592499 296.31982049 289.91485222 291.1434347\n",
            " 295.37207679 307.86151238 294.72239809 276.30031769 302.52480346\n",
            " 322.80602005 303.84657036 300.80237386 310.64546246 318.37698912\n",
            " 300.04099886 292.72976207 315.62857534 306.06661504 319.43006899\n",
            " 292.01860247 301.38834584 287.42275477 308.09820851 300.43899258\n",
            " 292.2781979  291.24139832 307.42174807 300.21129904 308.8780225\n",
            " 296.09723513 301.64325287 294.21559538 306.59090005 300.68470444\n",
            " 306.0440807  293.0302199  289.01506652 304.59318799 299.13615479\n",
            " 316.54228286 289.80249389 305.78971086 288.82590545 316.32088334\n",
            " 312.11948457 308.92507529 308.94371672 307.80071932 297.69490195\n",
            " 298.38402981 305.30860119 288.2317552  300.98352336 295.20183071\n",
            " 290.17967998 312.82984273 292.52839982 299.62473428 282.27004227\n",
            " 300.79388065 299.1863445  299.99385752 313.59338414 311.9829875\n",
            " 300.4079293  289.05611217 306.81946569 314.04125979 321.90907063\n",
            " 285.02443693 306.48821223 322.55417544 301.40952615 317.70981629\n",
            " 300.18426472 306.77522588 313.13824606 305.85061363 301.86293634\n",
            " 291.34484666 292.60100439 296.25835688 322.17908867 304.39906705\n",
            " 301.23438759 313.03828142 289.39003483 299.54419101 326.11977963\n",
            " 299.28361986 315.95035553 297.61667557 297.08673589 301.64104311\n",
            " 314.06854871 311.06503176 299.72433973 301.26376766 301.34948172\n",
            " 311.64866657 302.83370401 288.04679014 314.96961877 284.89202348\n",
            " 279.46759552 310.75286086 289.08559098 302.51919594 298.8197663\n",
            " 305.26467174 293.76671251 299.01577426 294.13757903 293.96317823\n",
            " 308.29057001 317.94636163 309.32647626 313.71514909 311.78309455\n",
            " 294.01351655 304.60566866 305.08345749]\n"
          ]
        }
      ],
      "source": [
        "print(test_data_prediction_2)"
      ]
    },
    {
      "cell_type": "markdown",
      "metadata": {},
      "source": [
        "Mean Absolute Error"
      ]
    },
    {
      "cell_type": "code",
      "execution_count": 124,
      "metadata": {
        "id": "e32ffB4Opshq"
      },
      "outputs": [],
      "source": [
        "mae = metrics.mean_absolute_error(Y_test, test_data_prediction_2)"
      ]
    },
    {
      "cell_type": "code",
      "execution_count": 125,
      "metadata": {
        "colab": {
          "base_uri": "https://localhost:8080/"
        },
        "id": "MWJQ0yJtqell",
        "outputId": "f5539a41-2d6b-4809-8a28-dbe9d703fc08"
      },
      "outputs": [
        {
          "name": "stdout",
          "output_type": "stream",
          "text": [
            "Mean Absolute Error =  98.48020991759081\n"
          ]
        }
      ],
      "source": [
        "print(\"Mean Absolute Error = \", mae)"
      ]
    }
  ],
  "metadata": {
    "colab": {
      "provenance": []
    },
    "kernelspec": {
      "display_name": "Python 3",
      "name": "python3"
    },
    "language_info": {
      "codemirror_mode": {
        "name": "ipython",
        "version": 3
      },
      "file_extension": ".py",
      "mimetype": "text/x-python",
      "name": "python",
      "nbconvert_exporter": "python",
      "pygments_lexer": "ipython3",
      "version": "3.9.19"
    }
  },
  "nbformat": 4,
  "nbformat_minor": 0
}
